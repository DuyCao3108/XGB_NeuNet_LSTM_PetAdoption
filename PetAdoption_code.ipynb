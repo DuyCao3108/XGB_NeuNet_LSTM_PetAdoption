{
 "cells": [
  {
   "cell_type": "code",
   "execution_count": null,
   "metadata": {},
   "outputs": [],
   "source": [
    "import pandas as pd\n",
    "import numpy as np\n",
    "import os\n",
    "import math\n",
    "import sklearn \n",
    "import xgboost\n",
    "from xgboost import XGBClassifier\n",
    "from sklearn.metrics import confusion_matrix\n",
    "import seaborn as sns\n",
    "import tensorflow as tf\n"
   ]
  },
  {
   "cell_type": "code",
   "execution_count": null,
   "metadata": {},
   "outputs": [],
   "source": [
    "train = pd.read_csv(r'C:\\Users\\Admin\\PetAdoption\\train\\train.csv')\n",
    "breed = pd.read_csv(r'C:\\Users\\Admin\\PetAdoption\\PetFinder-BreedLabels.csv')\n",
    "color = pd.read_csv(r'C:\\Users\\Admin\\PetAdoption\\PetFinder-ColorLabels.csv')\n",
    "state = pd.read_csv(r'C:\\Users\\Admin\\PetAdoption\\PetFinder-StateLabels.csv')\n",
    "test = pd.read_csv(r'C:\\Users\\Admin\\PetAdoption\\test\\test.csv')"
   ]
  },
  {
   "cell_type": "code",
   "execution_count": null,
   "metadata": {},
   "outputs": [],
   "source": [
    "import warnings\n",
    "\n",
    "# Ignore all warnings\n",
    "warnings.filterwarnings(\"ignore\")\n",
    "\n",
    "# Or ignore specific warnings by category (e.g., FutureWarnings)\n",
    "warnings.filterwarnings(\"ignore\", category=FutureWarning)"
   ]
  },
  {
   "cell_type": "markdown",
   "metadata": {},
   "source": [
    "# 1. Predicting using categorical and numerical data"
   ]
  },
  {
   "cell_type": "markdown",
   "metadata": {},
   "source": [
    "## 2.1 Data preparation"
   ]
  },
  {
   "cell_type": "code",
   "execution_count": null,
   "metadata": {},
   "outputs": [],
   "source": [
    "########  DEFINING A FUNCTION THAT PREPARE CORRECT INPUT FOR MODEL #########\n",
    "def get_input(df, breed,color,state):\n",
    "    # Merging with other tables to get labels\n",
    "    df_drop = df.drop(['PhotoAmt','PetID','Description','VideoAmt','RescuerID','Name'],axis=1)\n",
    "    df_drop = df_drop.rename(columns={'Breed1':'BreedID'}).merge(breed, on=['BreedID','Type'],how='left').drop('BreedID',axis=1)\n",
    "    df_drop = df_drop.rename(columns={'Breed2':'BreedID'}).merge(breed, on=['BreedID','Type'],how='left').drop('BreedID',axis=1)\n",
    "    \n",
    "    for color_col in ['Color1','Color2','Color3']:\n",
    "        df_drop = df_drop.rename(columns={color_col: 'ColorID'}).merge(color, on ='ColorID', how = 'left').drop('ColorID',axis=1)\n",
    "    df_drop = df_drop.rename(columns={'State':'StateID'}).merge(state,on ='StateID', how = 'left').drop('StateID',axis=1)\n",
    "\n",
    "    # Get label of data to understand the context\n",
    "    label_dict = {\n",
    "        'Type': ['Not specified','Dog','Cat'],\n",
    "        'Gender': ['Not specified','Male','Female','Mixed'],\n",
    "        'FurLength': ['Not specified','Short','Medium','Long'],\n",
    "        'Vaccinated': ['Not specified','Yes','No'],\n",
    "        'Dewormed': ['Not specified','Yes','No'],\n",
    "        'Sterilized': ['Not specified','Yes','No'],\n",
    "        'Health': ['Not specified','Healthy','Minor Injury','Serious Injury'],\n",
    "        'MaturitySize': ['Not specified','Small','Medium','Large','Extra Large'],\n",
    "        'AdoptionSpeed': ['First_day', 'First_week', 'First_month', 'First_30_to_90_days', 'First_100_days']\n",
    "    }\n",
    "\n",
    "    for col in df_drop.columns:\n",
    "        if col in label_dict:\n",
    "            label_list = label_dict[col]\n",
    "            for number in range(len(label_list)):\n",
    "                df_drop[col][df_drop[col] == number] = label_list[number]\n",
    "    df_labeled = df_drop\n",
    "    df_dummy = pd.get_dummies(df_labeled,dtype=int)\n",
    "    \n",
    "    return df_dummy, df_labeled"
   ]
  },
  {
   "cell_type": "code",
   "execution_count": null,
   "metadata": {},
   "outputs": [],
   "source": [
    "data_train_eval = get_input(train,breed,color,state)[0] # take df_dum\n",
    "data_test = get_input(test,breed,color,state)[0] # take df_dum\n",
    "# Split train data to train - evaluate set:\n",
    "n_split = math.floor(data_train_eval.shape[0] * 0.8)\n",
    "data_train = data_train_eval.sample(n=len(data_train_eval),random_state=31,ignore_index=True) # shuffle data\n",
    "\n",
    "data_train = data_train_eval.iloc[:n_split,:]\n",
    "data_eval = data_train_eval.iloc[n_split:,:]"
   ]
  },
  {
   "cell_type": "markdown",
   "metadata": {},
   "source": [
    "## 2.2 Predicting with XGBoost "
   ]
  },
  {
   "cell_type": "code",
   "execution_count": null,
   "metadata": {},
   "outputs": [],
   "source": [
    "def training_multiple_models(data_train, data_eval):\n",
    "    # function that return 5 inputs (used to train on 5 outcome of the model):\n",
    "    def get_5_input(data):\n",
    "        data_dict = {}\n",
    "        y_list = ['AdoptionSpeed_First_day', 'AdoptionSpeed_First_week', 'AdoptionSpeed_First_month', 'AdoptionSpeed_First_30_to_90_days', 'AdoptionSpeed_First_100_days']\n",
    "        for y_target in y_list:\n",
    "            xdata = data.drop(y_list,axis=1)\n",
    "            ydata = data[y_target]\n",
    "            data_dict[y_target] = (xdata,ydata)\n",
    "        return data_dict\n",
    "    # use get_5_input fuction to get data dict for train and eval data:\n",
    "    data_train_dict = get_5_input(data_train)\n",
    "    data_eval_dict = get_5_input(data_eval)\n",
    "\n",
    "    # function that build, train 5 models: \n",
    "    def build_train_model(data_train_dict, data_eval_dict):\n",
    "        model_dict = {}\n",
    "        for target_data in data_train_dict.keys():\n",
    "            xtrain = data_train_dict[target_data][0]\n",
    "            ytrain = data_train_dict[target_data][1]\n",
    "            eval_set = data_eval_dict[target_data]\n",
    "            model = XGBClassifier()\n",
    "            model.fit(\n",
    "                xtrain, ytrain,\n",
    "                eval_set= [eval_set], \n",
    "                verbose = False\n",
    "            )\n",
    "            model_dict[target_data] = model\n",
    "        return model_dict\n",
    "    \n",
    "    # use build_train_model function to generate 5 models that predict 5 outcomes:\n",
    "    model_dict = build_train_model(data_train_dict, data_eval_dict)\n",
    "\n",
    "    return model_dict"
   ]
  },
  {
   "cell_type": "code",
   "execution_count": null,
   "metadata": {},
   "outputs": [],
   "source": [
    "# Get list of full columns\n",
    "full_columns_ordered = data_train.drop(\n",
    "        ['AdoptionSpeed_First_day', 'AdoptionSpeed_First_week', 'AdoptionSpeed_First_month', 'AdoptionSpeed_First_30_to_90_days', 'AdoptionSpeed_First_100_days']\n",
    "        , axis =1\n",
    "        ).columns"
   ]
  },
  {
   "cell_type": "code",
   "execution_count": null,
   "metadata": {},
   "outputs": [],
   "source": [
    "# function that prepare input data and predict:\n",
    "def prepare_predict(data, full_columns_ordered, model_dict):\n",
    "    # function that padding and re-ordering data's column to fit with columns used to train:\n",
    "    def input_columns_adjustment(data, full_columns_ordered):\n",
    "        # padding missing columns to current data\n",
    "        columns_that_appear_both = full_columns_ordered.isin(data.columns)\n",
    "        columns_that_are_missing_and_undefined = full_columns_ordered[columns_that_appear_both == 0]\n",
    "        df_with_missing_and_undefined_columns = pd.DataFrame(np.zeros((len(data),len(columns_that_are_missing_and_undefined))),\n",
    "                                                                columns = columns_that_are_missing_and_undefined)\n",
    "        if df_with_missing_and_undefined_columns.empty == True: return data[full_columns_ordered] # this line to fix the logical error of this function\n",
    "        else:\n",
    "            data = pd.concat([\n",
    "                data, df_with_missing_and_undefined_columns\n",
    "            ], axis=1)\n",
    "            # excluding cols that are not predefined and reordering data to match training data\n",
    "            data = data[full_columns_ordered]\n",
    "        return data\n",
    "    \n",
    "    # use input_columns_adjustment to preapre input data:\n",
    "    data_prepared = input_columns_adjustment(data, full_columns_ordered)\n",
    "\n",
    "    \n",
    "    # Predicting and generate df result\n",
    "    ## initiate df\n",
    "    y_pred_df_5 = pd.DataFrame(np.zeros((len(data_prepared),1)))\n",
    "    ## predict multiple times:\n",
    "    for model_y in model_dict.values():\n",
    "        y_pred = model_y.predict_proba(data_prepared)\n",
    "        y_pred_true = y_pred[:,1:]\n",
    "        y_pred_true = pd.DataFrame(y_pred_true)\n",
    "        y_pred_df_5 = pd.concat([y_pred_df_5,y_pred_true],axis = 1)\n",
    "    y_pred_df_5 = y_pred_df_5.iloc[:,1:]\n",
    "    y_pred_df_5.columns = model_dict.keys()\n",
    "\n",
    "\n",
    "    # get the column that has the highest percentage for each obseravtion\n",
    "    ## def a function that get most likely speed label and value for each obs\n",
    "    def get_max(x, ouput_option):\n",
    "        max_prob = 0\n",
    "        max_speed = 'column'\n",
    "        for col in y_pred_df_5.columns:\n",
    "            if x[col] > max_prob: \n",
    "                max_speed = col\n",
    "                max_prob = x[col]\n",
    "        if ouput_option == 'label':\n",
    "            return max_speed\n",
    "        if ouput_option == 'prob':\n",
    "            return max_prob\n",
    "    ## use get_max function to get most likely label and its prob\n",
    "    y_pred_df_5['Max prob'] = y_pred_df_5.apply(get_max,args = ['prob'], axis=1)\n",
    "    y_pred_df_5['Most likely label'] = y_pred_df_5.apply(get_max, args = ['label'], axis=1)\n",
    "    ## shorten result for better intepretation\n",
    "    y_pred_short = y_pred_df_5[['Max prob','Most likely label']]\n",
    "\n",
    "\n",
    "    ## Addition: predict and label (not just outputing probability):\n",
    "    y_pred_df_5_boolean = pd.DataFrame(np.zeros((len(data_prepared),1)))\n",
    "    for model_y in model_dict.values():\n",
    "        y_pred = pd.DataFrame(model_y.predict(data_prepared))\n",
    "        y_pred_df_5_boolean = pd.concat([y_pred_df_5_boolean,y_pred],axis = 1)\n",
    "    y_pred_df_5_boolean = y_pred_df_5_boolean.iloc[:,1:]\n",
    "    y_pred_df_5_boolean.columns = model_dict.keys()\n",
    "\n",
    "    print(\"input_shape: \", data.shape ,\"output_shape: \", data_prepared.shape)\n",
    "\n",
    "    return y_pred_short, y_pred_df_5, y_pred_df_5_boolean"
   ]
  },
  {
   "cell_type": "markdown",
   "metadata": {},
   "source": [
    "### 2.3 Evaluate model's performance"
   ]
  },
  {
   "cell_type": "code",
   "execution_count": null,
   "metadata": {},
   "outputs": [],
   "source": [
    "# define function that caluculate average value for confusion matrix\n",
    "def get_total_confusion_matrix(label_predicted,label_real):\n",
    "    confusion_matrix_list = []\n",
    "    for y_class in ['AdoptionSpeed_First_day', 'AdoptionSpeed_First_week', 'AdoptionSpeed_First_month', 'AdoptionSpeed_First_30_to_90_days', 'AdoptionSpeed_First_100_days']:\n",
    "        predicted_y = label_predicted[y_class]\n",
    "        real_y = label_real[y_class]\n",
    "        confusion_matrix_list.append(confusion_matrix(real_y,predicted_y))\n",
    "    return sum(confusion_matrix_list)"
   ]
  },
  {
   "cell_type": "code",
   "execution_count": null,
   "metadata": {},
   "outputs": [],
   "source": [
    "# def function to calculate metrics:\n",
    "def calculate_perform_metrics(total_confusion_matrix):\n",
    "    # get components\n",
    "    TP = total_confusion_matrix[1,1]\n",
    "    TN = total_confusion_matrix[0,0]\n",
    "    FP = total_confusion_matrix[0,1]\n",
    "    FN = total_confusion_matrix[1,0]\n",
    "    # calculate metrics\n",
    "    metric_dict ={\n",
    "        'accuracy': (TP+TN)/(TP+TN+FP+FN),\n",
    "        'precision': TP/(TP+FP),\n",
    "        'recall': TP/(TP+FN),\n",
    "        'F1': 2 * (TP/(TP+FP) * TP/(TP+FN)) / (TP/(TP+FP) + TP/(TP+FN)) #  2 * (precision * recall) / (precision + recall)\n",
    "    }\n",
    "    \n",
    "    return metric_dict"
   ]
  },
  {
   "cell_type": "code",
   "execution_count": null,
   "metadata": {},
   "outputs": [],
   "source": [
    "# Evaluate model performance\n",
    "model_dict = training_multiple_models(data_train, data_eval)\n",
    "y_pred_short, y_pred_df_5, y_pred_df_5_boolean = prepare_predict(data_eval, full_columns_ordered, model_dict)\n",
    "# Get predicted label and real label\n",
    "label_predicted = y_pred_df_5_boolean\n",
    "label_real = data_eval[['AdoptionSpeed_First_day', 'AdoptionSpeed_First_week', 'AdoptionSpeed_First_month', 'AdoptionSpeed_First_30_to_90_days', 'AdoptionSpeed_First_100_days']]"
   ]
  },
  {
   "cell_type": "code",
   "execution_count": null,
   "metadata": {},
   "outputs": [],
   "source": [
    "total_confusion_matrix = get_total_confusion_matrix(label_predicted,label_real)\n",
    "print(total_confusion_matrix)\n",
    "\n",
    "# visualizing confusion matrix:\n",
    "sns.heatmap(total_confusion_matrix, annot=True, cmap=\"crest\", fmt='.4g')\n",
    "\n",
    "# calcualte metric dict \n",
    "metric_dict = calculate_perform_metrics(total_confusion_matrix)\n",
    "print(metric_dict)"
   ]
  },
  {
   "cell_type": "markdown",
   "metadata": {},
   "source": [
    "## 2.3 Predicting with Neural network"
   ]
  },
  {
   "cell_type": "markdown",
   "metadata": {},
   "source": [
    "## 2.3.1 Data preparation"
   ]
  },
  {
   "cell_type": "code",
   "execution_count": 113,
   "metadata": {},
   "outputs": [
    {
     "name": "stdout",
     "output_type": "stream",
     "text": [
      "(11994, 367) (2999, 367) (11994, 5) (2999, 5) (3972, 269)\n"
     ]
    }
   ],
   "source": [
    "# get desired input\n",
    "data_train_eval = get_input(train, breed,color,state)[0] # take df_dum\n",
    "list_of_label = ['AdoptionSpeed_First_day', 'AdoptionSpeed_First_week', 'AdoptionSpeed_First_month', 'AdoptionSpeed_First_30_to_90_days', 'AdoptionSpeed_First_100_days']\n",
    "\n",
    "label_train_eval = data_train_eval[list_of_label]\n",
    "data_train_eval = data_train_eval.drop(list_of_label, axis = 1)\n",
    "\n",
    "data_test = get_input(test,breed,color,state)[0] # take df_dum\n",
    "\n",
    "# Split train data to train - evaluate set:\n",
    "n_split = math.floor(data_train_eval.shape[0] * 0.8)\n",
    "\n",
    "data_train = data_train_eval.iloc[:n_split,:]\n",
    "data_eval = data_train_eval.iloc[n_split:,:]\n",
    "\n",
    "label_train = label_train_eval.iloc[:n_split,:]\n",
    "label_eval = label_train_eval.iloc[n_split:,:]\n",
    "\n",
    "# print out shape\n",
    "print(\n",
    "    data_train.shape,\n",
    "    data_eval.shape,\n",
    "    label_train.shape,\n",
    "    label_eval.shape,\n",
    "    data_test.shape # data test need adjustment, already defined a function above\n",
    ")"
   ]
  },
  {
   "cell_type": "code",
   "execution_count": 111,
   "metadata": {},
   "outputs": [],
   "source": [
    "model = tf.keras.Sequential([\n",
    "    tf.keras.Input(shape=(data_train.shape[1],)),\n",
    "    tf.keras.layers.Dense(units=200),\n",
    "    tf.keras.layers.Dense(units=150),\n",
    "    tf.keras.layers.Dense(units=100),\n",
    "    tf.keras.layers.Dense(units=50),\n",
    "    tf.keras.layers.Dense(units=5, activation='softmax'),\n",
    "])\n",
    "\n",
    "model.compile(\n",
    "    loss= 'CategoricalCrossentropy',\n",
    "    optimizer= 'Adam',\n",
    "    metrics = ['Accuracy']\n",
    ")"
   ]
  },
  {
   "cell_type": "code",
   "execution_count": 112,
   "metadata": {},
   "outputs": [
    {
     "name": "stdout",
     "output_type": "stream",
     "text": [
      "Epoch 1/100\n",
      "375/375 [==============================] - 1s 2ms/step - loss: 1.9074 - Accuracy: 0.3211 - val_loss: 1.5042 - val_Accuracy: 0.3148\n",
      "Epoch 2/100\n",
      "375/375 [==============================] - 1s 1ms/step - loss: 1.4632 - Accuracy: 0.3464 - val_loss: 1.4124 - val_Accuracy: 0.3545\n",
      "Epoch 3/100\n",
      "375/375 [==============================] - 1s 1ms/step - loss: 1.4961 - Accuracy: 0.3458 - val_loss: 1.4196 - val_Accuracy: 0.3451\n",
      "Epoch 4/100\n",
      "375/375 [==============================] - 0s 1ms/step - loss: 1.4264 - Accuracy: 0.3559 - val_loss: 1.3958 - val_Accuracy: 0.3528\n",
      "Epoch 5/100\n",
      "375/375 [==============================] - 1s 1ms/step - loss: 1.4205 - Accuracy: 0.3598 - val_loss: 1.4045 - val_Accuracy: 0.3635\n",
      "Epoch 6/100\n",
      "375/375 [==============================] - 1s 1ms/step - loss: 1.4106 - Accuracy: 0.3655 - val_loss: 1.3899 - val_Accuracy: 0.3625\n",
      "Epoch 7/100\n",
      "375/375 [==============================] - 0s 1ms/step - loss: 1.4070 - Accuracy: 0.3681 - val_loss: 1.4507 - val_Accuracy: 0.3531\n",
      "Epoch 8/100\n",
      "375/375 [==============================] - 1s 1ms/step - loss: 1.4212 - Accuracy: 0.3598 - val_loss: 1.4078 - val_Accuracy: 0.3548\n",
      "Epoch 9/100\n",
      "375/375 [==============================] - 1s 1ms/step - loss: 1.4042 - Accuracy: 0.3709 - val_loss: 1.4056 - val_Accuracy: 0.3615\n",
      "Epoch 10/100\n",
      "375/375 [==============================] - 0s 1ms/step - loss: 1.3924 - Accuracy: 0.3716 - val_loss: 1.4288 - val_Accuracy: 0.3521\n",
      "Epoch 11/100\n",
      "375/375 [==============================] - 0s 1ms/step - loss: 1.3921 - Accuracy: 0.3794 - val_loss: 1.4071 - val_Accuracy: 0.3625\n",
      "Epoch 12/100\n",
      "375/375 [==============================] - 1s 1ms/step - loss: 1.3848 - Accuracy: 0.3754 - val_loss: 1.4274 - val_Accuracy: 0.3588\n",
      "Epoch 13/100\n",
      "375/375 [==============================] - 0s 1ms/step - loss: 1.3995 - Accuracy: 0.3753 - val_loss: 1.4009 - val_Accuracy: 0.3558\n",
      "Epoch 14/100\n",
      "375/375 [==============================] - 1s 1ms/step - loss: 1.3848 - Accuracy: 0.3757 - val_loss: 1.4047 - val_Accuracy: 0.3631\n",
      "Epoch 15/100\n",
      "375/375 [==============================] - 0s 1ms/step - loss: 1.3891 - Accuracy: 0.3715 - val_loss: 1.4025 - val_Accuracy: 0.3611\n",
      "Epoch 16/100\n",
      "375/375 [==============================] - 0s 1ms/step - loss: 1.3877 - Accuracy: 0.3796 - val_loss: 1.3991 - val_Accuracy: 0.3531\n",
      "Epoch 17/100\n",
      "375/375 [==============================] - 1s 1ms/step - loss: 1.3841 - Accuracy: 0.3755 - val_loss: 1.4084 - val_Accuracy: 0.3505\n",
      "Epoch 18/100\n",
      "375/375 [==============================] - 0s 1ms/step - loss: 1.3822 - Accuracy: 0.3746 - val_loss: 1.3983 - val_Accuracy: 0.3688\n",
      "Epoch 19/100\n",
      "375/375 [==============================] - 0s 1ms/step - loss: 1.3790 - Accuracy: 0.3842 - val_loss: 1.4037 - val_Accuracy: 0.3571\n",
      "Epoch 20/100\n",
      "375/375 [==============================] - 0s 1ms/step - loss: 1.3785 - Accuracy: 0.3778 - val_loss: 1.3984 - val_Accuracy: 0.3591\n",
      "Epoch 21/100\n",
      "375/375 [==============================] - 1s 1ms/step - loss: 1.3751 - Accuracy: 0.3795 - val_loss: 1.3972 - val_Accuracy: 0.3605\n",
      "Epoch 22/100\n",
      "375/375 [==============================] - 1s 1ms/step - loss: 1.3768 - Accuracy: 0.3781 - val_loss: 1.3993 - val_Accuracy: 0.3655\n",
      "Epoch 23/100\n",
      "375/375 [==============================] - 1s 1ms/step - loss: 1.3802 - Accuracy: 0.3780 - val_loss: 1.4028 - val_Accuracy: 0.3541\n",
      "Epoch 24/100\n",
      "375/375 [==============================] - 0s 1ms/step - loss: 1.3777 - Accuracy: 0.3829 - val_loss: 1.3997 - val_Accuracy: 0.3581\n",
      "Epoch 25/100\n",
      "375/375 [==============================] - 0s 1ms/step - loss: 1.3763 - Accuracy: 0.3765 - val_loss: 1.4034 - val_Accuracy: 0.3611\n",
      "Epoch 26/100\n",
      "375/375 [==============================] - 1s 1ms/step - loss: 1.3765 - Accuracy: 0.3824 - val_loss: 1.3957 - val_Accuracy: 0.3665\n",
      "Epoch 27/100\n",
      "375/375 [==============================] - 0s 1ms/step - loss: 1.3707 - Accuracy: 0.3823 - val_loss: 1.4081 - val_Accuracy: 0.3625\n",
      "Epoch 28/100\n",
      "375/375 [==============================] - 0s 1ms/step - loss: 1.3676 - Accuracy: 0.3861 - val_loss: 1.3984 - val_Accuracy: 0.3545\n",
      "Epoch 29/100\n",
      "375/375 [==============================] - 0s 1ms/step - loss: 1.3696 - Accuracy: 0.3842 - val_loss: 1.4059 - val_Accuracy: 0.3555\n",
      "Epoch 30/100\n",
      "375/375 [==============================] - 0s 1ms/step - loss: 1.3710 - Accuracy: 0.3807 - val_loss: 1.3962 - val_Accuracy: 0.3638\n",
      "Epoch 31/100\n",
      "375/375 [==============================] - 0s 1ms/step - loss: 1.3669 - Accuracy: 0.3858 - val_loss: 1.4008 - val_Accuracy: 0.3585\n",
      "Epoch 32/100\n",
      "375/375 [==============================] - 1s 1ms/step - loss: 1.3717 - Accuracy: 0.3857 - val_loss: 1.4049 - val_Accuracy: 0.3481\n",
      "Epoch 33/100\n",
      "375/375 [==============================] - 0s 1ms/step - loss: 1.3712 - Accuracy: 0.3848 - val_loss: 1.4055 - val_Accuracy: 0.3618\n",
      "Epoch 34/100\n",
      "375/375 [==============================] - 1s 1ms/step - loss: 1.3671 - Accuracy: 0.3860 - val_loss: 1.4036 - val_Accuracy: 0.3611\n",
      "Epoch 35/100\n",
      "375/375 [==============================] - 0s 1ms/step - loss: 1.3650 - Accuracy: 0.3844 - val_loss: 1.4010 - val_Accuracy: 0.3548\n",
      "Epoch 36/100\n",
      "375/375 [==============================] - 0s 1ms/step - loss: 1.3669 - Accuracy: 0.3830 - val_loss: 1.4047 - val_Accuracy: 0.3621\n",
      "Epoch 37/100\n",
      "375/375 [==============================] - 1s 1ms/step - loss: 1.3661 - Accuracy: 0.3862 - val_loss: 1.4036 - val_Accuracy: 0.3611\n",
      "Epoch 38/100\n",
      "375/375 [==============================] - 0s 1ms/step - loss: 1.3634 - Accuracy: 0.3854 - val_loss: 1.3948 - val_Accuracy: 0.3668\n",
      "Epoch 39/100\n",
      "375/375 [==============================] - 0s 1ms/step - loss: 1.3623 - Accuracy: 0.3870 - val_loss: 1.4123 - val_Accuracy: 0.3531\n",
      "Epoch 40/100\n",
      "375/375 [==============================] - 0s 1ms/step - loss: 1.3712 - Accuracy: 0.3818 - val_loss: 1.4080 - val_Accuracy: 0.3478\n",
      "Epoch 41/100\n",
      "375/375 [==============================] - 1s 1ms/step - loss: 1.3584 - Accuracy: 0.3911 - val_loss: 1.4016 - val_Accuracy: 0.3528\n",
      "Epoch 42/100\n",
      "375/375 [==============================] - 1s 1ms/step - loss: 1.3604 - Accuracy: 0.3858 - val_loss: 1.4182 - val_Accuracy: 0.3615\n",
      "Epoch 43/100\n",
      "375/375 [==============================] - 0s 1ms/step - loss: 1.3607 - Accuracy: 0.3891 - val_loss: 1.4113 - val_Accuracy: 0.3641\n",
      "Epoch 44/100\n",
      "375/375 [==============================] - 0s 1ms/step - loss: 1.3653 - Accuracy: 0.3883 - val_loss: 1.4039 - val_Accuracy: 0.3611\n",
      "Epoch 45/100\n",
      "375/375 [==============================] - 0s 1ms/step - loss: 1.3588 - Accuracy: 0.3917 - val_loss: 1.4017 - val_Accuracy: 0.3615\n",
      "Epoch 46/100\n",
      "375/375 [==============================] - 0s 1ms/step - loss: 1.3625 - Accuracy: 0.3898 - val_loss: 1.4014 - val_Accuracy: 0.3598\n",
      "Epoch 47/100\n",
      "375/375 [==============================] - 0s 1ms/step - loss: 1.3576 - Accuracy: 0.3935 - val_loss: 1.4056 - val_Accuracy: 0.3621\n",
      "Epoch 48/100\n",
      "375/375 [==============================] - 0s 1ms/step - loss: 1.3587 - Accuracy: 0.3924 - val_loss: 1.4089 - val_Accuracy: 0.3621\n",
      "Epoch 49/100\n",
      "375/375 [==============================] - 1s 1ms/step - loss: 1.3577 - Accuracy: 0.3895 - val_loss: 1.4208 - val_Accuracy: 0.3505\n",
      "Epoch 50/100\n",
      "375/375 [==============================] - 1s 1ms/step - loss: 1.3593 - Accuracy: 0.3891 - val_loss: 1.4353 - val_Accuracy: 0.3531\n",
      "Epoch 51/100\n",
      "375/375 [==============================] - 1s 1ms/step - loss: 1.3573 - Accuracy: 0.3871 - val_loss: 1.4046 - val_Accuracy: 0.3655\n",
      "Epoch 52/100\n",
      "375/375 [==============================] - 0s 1ms/step - loss: 1.3546 - Accuracy: 0.3923 - val_loss: 1.4163 - val_Accuracy: 0.3601\n",
      "Epoch 53/100\n",
      "375/375 [==============================] - 0s 1ms/step - loss: 1.3580 - Accuracy: 0.3909 - val_loss: 1.4218 - val_Accuracy: 0.3598\n",
      "Epoch 54/100\n",
      "375/375 [==============================] - 0s 1ms/step - loss: 1.3580 - Accuracy: 0.3902 - val_loss: 1.4002 - val_Accuracy: 0.3648\n",
      "Epoch 55/100\n",
      "375/375 [==============================] - 0s 1ms/step - loss: 1.3558 - Accuracy: 0.3864 - val_loss: 1.4031 - val_Accuracy: 0.3595\n",
      "Epoch 56/100\n",
      "375/375 [==============================] - 0s 1ms/step - loss: 1.3552 - Accuracy: 0.3916 - val_loss: 1.4062 - val_Accuracy: 0.3628\n",
      "Epoch 57/100\n",
      "375/375 [==============================] - 0s 1ms/step - loss: 1.3572 - Accuracy: 0.3916 - val_loss: 1.4084 - val_Accuracy: 0.3601\n",
      "Epoch 58/100\n",
      "375/375 [==============================] - 0s 1ms/step - loss: 1.3587 - Accuracy: 0.3943 - val_loss: 1.4063 - val_Accuracy: 0.3501\n",
      "Epoch 59/100\n",
      "375/375 [==============================] - 0s 1ms/step - loss: 1.3544 - Accuracy: 0.3945 - val_loss: 1.4074 - val_Accuracy: 0.3661\n",
      "Epoch 60/100\n",
      "375/375 [==============================] - 0s 1ms/step - loss: 1.3572 - Accuracy: 0.3902 - val_loss: 1.4107 - val_Accuracy: 0.3578\n",
      "Epoch 61/100\n",
      "375/375 [==============================] - 0s 1ms/step - loss: 1.3530 - Accuracy: 0.3861 - val_loss: 1.4084 - val_Accuracy: 0.3635\n",
      "Epoch 62/100\n",
      "375/375 [==============================] - 0s 1ms/step - loss: 1.3566 - Accuracy: 0.3895 - val_loss: 1.4210 - val_Accuracy: 0.3545\n",
      "Epoch 63/100\n",
      "375/375 [==============================] - 0s 1ms/step - loss: 1.3564 - Accuracy: 0.3905 - val_loss: 1.4011 - val_Accuracy: 0.3678\n",
      "Epoch 64/100\n",
      "375/375 [==============================] - 0s 1ms/step - loss: 1.3545 - Accuracy: 0.3855 - val_loss: 1.4197 - val_Accuracy: 0.3555\n",
      "Epoch 65/100\n",
      "375/375 [==============================] - 0s 1ms/step - loss: 1.3539 - Accuracy: 0.3901 - val_loss: 1.4028 - val_Accuracy: 0.3598\n",
      "Epoch 66/100\n",
      "375/375 [==============================] - 0s 1ms/step - loss: 1.3592 - Accuracy: 0.3870 - val_loss: 1.4139 - val_Accuracy: 0.3575\n",
      "Epoch 67/100\n",
      "375/375 [==============================] - 0s 1ms/step - loss: 1.3546 - Accuracy: 0.3914 - val_loss: 1.4230 - val_Accuracy: 0.3571\n",
      "Epoch 68/100\n",
      "375/375 [==============================] - 0s 1ms/step - loss: 1.3498 - Accuracy: 0.3924 - val_loss: 1.4163 - val_Accuracy: 0.3631\n",
      "Epoch 69/100\n",
      "375/375 [==============================] - 1s 1ms/step - loss: 1.3515 - Accuracy: 0.3914 - val_loss: 1.4046 - val_Accuracy: 0.3611\n",
      "Epoch 70/100\n",
      "375/375 [==============================] - 0s 1ms/step - loss: 1.3508 - Accuracy: 0.3893 - val_loss: 1.4044 - val_Accuracy: 0.3615\n",
      "Epoch 71/100\n",
      "375/375 [==============================] - 0s 1ms/step - loss: 1.3548 - Accuracy: 0.3873 - val_loss: 1.4053 - val_Accuracy: 0.3565\n",
      "Epoch 72/100\n",
      "375/375 [==============================] - 0s 1ms/step - loss: 1.3519 - Accuracy: 0.3940 - val_loss: 1.4049 - val_Accuracy: 0.3565\n",
      "Epoch 73/100\n",
      "375/375 [==============================] - 0s 1ms/step - loss: 1.3493 - Accuracy: 0.3914 - val_loss: 1.4009 - val_Accuracy: 0.3601\n",
      "Epoch 74/100\n",
      "375/375 [==============================] - 0s 1ms/step - loss: 1.3539 - Accuracy: 0.3914 - val_loss: 1.4167 - val_Accuracy: 0.3601\n",
      "Epoch 75/100\n",
      "375/375 [==============================] - 0s 1ms/step - loss: 1.3566 - Accuracy: 0.3865 - val_loss: 1.4114 - val_Accuracy: 0.3585\n",
      "Epoch 76/100\n",
      "375/375 [==============================] - 0s 1ms/step - loss: 1.3533 - Accuracy: 0.3923 - val_loss: 1.4143 - val_Accuracy: 0.3595\n",
      "Epoch 77/100\n",
      "375/375 [==============================] - 0s 1ms/step - loss: 1.3495 - Accuracy: 0.3919 - val_loss: 1.4126 - val_Accuracy: 0.3638\n",
      "Epoch 78/100\n",
      "375/375 [==============================] - 0s 1ms/step - loss: 1.3502 - Accuracy: 0.3914 - val_loss: 1.4126 - val_Accuracy: 0.3568\n",
      "Epoch 79/100\n",
      "375/375 [==============================] - 0s 1ms/step - loss: 1.3493 - Accuracy: 0.3929 - val_loss: 1.4151 - val_Accuracy: 0.3565\n",
      "Epoch 80/100\n",
      "375/375 [==============================] - 0s 1ms/step - loss: 1.3519 - Accuracy: 0.3891 - val_loss: 1.4179 - val_Accuracy: 0.3621\n",
      "Epoch 81/100\n",
      "375/375 [==============================] - 0s 1ms/step - loss: 1.3505 - Accuracy: 0.3934 - val_loss: 1.4079 - val_Accuracy: 0.3638\n",
      "Epoch 82/100\n",
      "375/375 [==============================] - 0s 1ms/step - loss: 1.3508 - Accuracy: 0.3906 - val_loss: 1.4258 - val_Accuracy: 0.3611\n",
      "Epoch 83/100\n",
      "375/375 [==============================] - 0s 1ms/step - loss: 1.3503 - Accuracy: 0.3879 - val_loss: 1.4107 - val_Accuracy: 0.3575\n",
      "Epoch 84/100\n",
      "375/375 [==============================] - 0s 1ms/step - loss: 1.3475 - Accuracy: 0.3914 - val_loss: 1.4056 - val_Accuracy: 0.3641\n",
      "Epoch 85/100\n",
      "375/375 [==============================] - 0s 1ms/step - loss: 1.3504 - Accuracy: 0.3895 - val_loss: 1.4225 - val_Accuracy: 0.3631\n",
      "Epoch 86/100\n",
      "375/375 [==============================] - 0s 1ms/step - loss: 1.3520 - Accuracy: 0.3909 - val_loss: 1.4113 - val_Accuracy: 0.3548\n",
      "Epoch 87/100\n",
      "375/375 [==============================] - 0s 1ms/step - loss: 1.3482 - Accuracy: 0.3908 - val_loss: 1.4211 - val_Accuracy: 0.3501\n",
      "Epoch 88/100\n",
      "375/375 [==============================] - 0s 1ms/step - loss: 1.3487 - Accuracy: 0.3895 - val_loss: 1.4161 - val_Accuracy: 0.3474\n",
      "Epoch 89/100\n",
      "375/375 [==============================] - 0s 1ms/step - loss: 1.3464 - Accuracy: 0.3889 - val_loss: 1.4286 - val_Accuracy: 0.3631\n",
      "Epoch 90/100\n",
      "375/375 [==============================] - 0s 1ms/step - loss: 1.3491 - Accuracy: 0.3907 - val_loss: 1.4094 - val_Accuracy: 0.3585\n",
      "Epoch 91/100\n",
      "375/375 [==============================] - 0s 1ms/step - loss: 1.3515 - Accuracy: 0.3894 - val_loss: 1.4157 - val_Accuracy: 0.3598\n",
      "Epoch 92/100\n",
      "375/375 [==============================] - 0s 1ms/step - loss: 1.3473 - Accuracy: 0.3903 - val_loss: 1.4169 - val_Accuracy: 0.3615\n",
      "Epoch 93/100\n",
      "375/375 [==============================] - 0s 1ms/step - loss: 1.3468 - Accuracy: 0.3899 - val_loss: 1.4232 - val_Accuracy: 0.3555\n",
      "Epoch 94/100\n",
      "375/375 [==============================] - 0s 1ms/step - loss: 1.3476 - Accuracy: 0.3884 - val_loss: 1.4144 - val_Accuracy: 0.3635\n",
      "Epoch 95/100\n",
      "375/375 [==============================] - 0s 1ms/step - loss: 1.3483 - Accuracy: 0.3924 - val_loss: 1.4129 - val_Accuracy: 0.3588\n",
      "Epoch 96/100\n",
      "375/375 [==============================] - 0s 1ms/step - loss: 1.3466 - Accuracy: 0.3912 - val_loss: 1.4112 - val_Accuracy: 0.3645\n",
      "Epoch 97/100\n",
      "375/375 [==============================] - 0s 1ms/step - loss: 1.3492 - Accuracy: 0.3907 - val_loss: 1.4239 - val_Accuracy: 0.3581\n",
      "Epoch 98/100\n",
      "375/375 [==============================] - 0s 1ms/step - loss: 1.3510 - Accuracy: 0.3889 - val_loss: 1.4244 - val_Accuracy: 0.3575\n",
      "Epoch 99/100\n",
      "375/375 [==============================] - 0s 1ms/step - loss: 1.3487 - Accuracy: 0.3902 - val_loss: 1.4169 - val_Accuracy: 0.3638\n",
      "Epoch 100/100\n",
      "375/375 [==============================] - 0s 1ms/step - loss: 1.3458 - Accuracy: 0.3910 - val_loss: 1.4211 - val_Accuracy: 0.3585\n"
     ]
    },
    {
     "data": {
      "text/plain": [
       "<keras.src.callbacks.History at 0x187e8bee710>"
      ]
     },
     "execution_count": 112,
     "metadata": {},
     "output_type": "execute_result"
    }
   ],
   "source": [
    "model.fit(\n",
    "    data_train,\n",
    "    label_train,\n",
    "    epochs=100,\n",
    "    validation_data=(data_eval,label_eval)\n",
    ")"
   ]
  },
  {
   "cell_type": "markdown",
   "metadata": {},
   "source": [
    "# 3. Predicting using categorical, numerical and text data"
   ]
  },
  {
   "cell_type": "markdown",
   "metadata": {},
   "source": [
    "## 3.1 Importing necessary libs"
   ]
  },
  {
   "cell_type": "code",
   "execution_count": 119,
   "metadata": {},
   "outputs": [],
   "source": [
    "# tokenizer and sequence padding\n",
    "from tensorflow.keras.preprocessing.text import Tokenizer\n",
    "from tensorflow.keras.preprocessing.sequence import pad_sequences\n",
    "# tf keras function to build model\n",
    "from tensorflow.keras.layers import Input, LSTM, Dense, Embedding, Concatenate\n",
    "from tensorflow.keras.models import Model"
   ]
  },
  {
   "cell_type": "markdown",
   "metadata": {},
   "source": [
    "## 3.2 Preprocessing text and numerical-categorical data "
   ]
  },
  {
   "cell_type": "code",
   "execution_count": 120,
   "metadata": {},
   "outputs": [],
   "source": [
    "#### TOKENIZING ON TEXT DATA ####\n",
    "# tokenize base on 'description' column in train data\n",
    "train['Description'].fillna('', inplace=True)     # Handle missing values by filling NaN with an empty string\n",
    "train['Description'] = train['Description'].str.lower()    # Convert descriptions to lowercase\n",
    "tokenizer = Tokenizer() # Start tokenizing\n",
    "tokenizer.fit_on_texts(train['Description'])\n",
    "# get word index\n",
    "word_index = tokenizer.word_index\n",
    "max_word_index = max(word_index.values()) # 21808"
   ]
  },
  {
   "cell_type": "code",
   "execution_count": 121,
   "metadata": {},
   "outputs": [
    {
     "data": {
      "image/png": "[encoded data removed]",
      "text/plain": [
       "<Figure size 640x480 with 1 Axes>"
      ]
     },
     "metadata": {},
     "output_type": "display_data"
    }
   ],
   "source": [
    "#### CONVERTING TEXT TO INDEXES AND TO SEQUENCES ####\n",
    "# convert indexes to sequences\n",
    "train['Description'] = train['Description'].astype(str) # astype of column to string \n",
    "seq = tokenizer.texts_to_sequences(train['Description'])\n",
    "# length of each sentence in 'description' column\n",
    "length_dist = [len(seq_i) for seq_i in seq]\n",
    "sns.kdeplot(length_dist) # most of them center around 200-400, lets set maxlen to 200\n",
    "# padding sequences\n",
    "padded_train_eval = pad_sequences(seq, maxlen = 200,truncating='post', padding='post')"
   ]
  },
  {
   "cell_type": "code",
   "execution_count": 122,
   "metadata": {},
   "outputs": [],
   "source": [
    "##### ONE-HOT CODING, EXTRACTING LABEL FROM ORIGINAL NON-TEXT DATA #####\n",
    "train_eval = get_input(train,breed,color,state)[0] # use get_input function previously defined\n",
    "# get label data\n",
    "y_list = ['AdoptionSpeed_First_day', 'AdoptionSpeed_First_week', 'AdoptionSpeed_First_month', 'AdoptionSpeed_First_30_to_90_days', 'AdoptionSpeed_First_100_days']\n",
    "label_train_eval = train_eval[y_list]\n",
    "# drop y_column to get input data\n",
    "data_train_eval = train_eval.drop(y_list,axis=1)"
   ]
  },
  {
   "cell_type": "code",
   "execution_count": 123,
   "metadata": {},
   "outputs": [],
   "source": [
    "##### CONCATINATING TEXT AND NON TEXT DATA #####\n",
    "full_concated_data = np.concatenate((data_train_eval, padded_train_eval), axis=1)"
   ]
  },
  {
   "cell_type": "code",
   "execution_count": 124,
   "metadata": {},
   "outputs": [
    {
     "name": "stdout",
     "output_type": "stream",
     "text": [
      "(11994, 567) (11994, 5) (2999, 567) (2999, 5)\n"
     ]
    }
   ],
   "source": [
    "##### SPLITING INTO TRAIN-EVALUATION DATA SET #####\n",
    "n_split = math.floor(full_concated_data.shape[0] * 0.8)\n",
    "# Split data\n",
    "data_train = full_concated_data[:n_split,:]\n",
    "data_eval = full_concated_data[n_split:,:]\n",
    "# Split label\n",
    "label_train = label_train_eval.iloc[:n_split,:].values\n",
    "label_eval = label_train_eval.iloc[n_split:,:].values\n",
    "# Printing shape of these data sets\n",
    "print(\n",
    "    data_train.shape,\n",
    "    label_train.shape,\n",
    "    data_eval.shape,\n",
    "    label_eval.shape\n",
    ")"
   ]
  },
  {
   "cell_type": "markdown",
   "metadata": {},
   "source": [
    "## 3.3 Model building and evaluating"
   ]
  },
  {
   "cell_type": "code",
   "execution_count": 125,
   "metadata": {},
   "outputs": [],
   "source": [
    "# Function that get model\n",
    "def get_model(input_data, text_dimension):\n",
    "    total_dimension = input_data.shape[1]\n",
    "    textinput_dimension = text_dimension\n",
    "    # Spliting input numerical and text data\n",
    "    input_layer = Input(shape=(total_dimension,))\n",
    "    numin, textin = tf.split(input_layer, num_or_size_splits=[total_dimension - textinput_dimension, textinput_dimension], axis=1)\n",
    "    # Model for numerical data\n",
    "    Dense1 = Dense(200)(numin)\n",
    "    Dense2 = Dense(150)(Dense1)\n",
    "    Dense3 = Dense(100)(Dense2)\n",
    "    Dense4 = Dense(50)(Dense3)\n",
    "    # Model for text data\n",
    "    em = Embedding(max_word_index + 1, 100, input_length = textinput_dimension)(textin) # Current dimension = max_word_index + 1\n",
    "    lstm = LSTM(textinput_dimension)(em) \n",
    "    Dense5 = Dense(50)(lstm)\n",
    "    Dense6 = Dense(20)(Dense5)\n",
    "    # Concatenate value from two previous paths\n",
    "    merged = Concatenate()([Dense4, Dense6])\n",
    "    # Last layer would be softmax\n",
    "    output = Dense(5, activation='softmax')(merged)\n",
    "    # Generate model\n",
    "    model = Model(inputs=input_layer, outputs=output)\n",
    "    # Compiling model\n",
    "    model.compile(optimizer='adam', loss=tf.keras.losses.CategoricalCrossentropy(), metrics=['accuracy'])\n",
    "    # Createing a checkpoint path to automatically save model\n",
    "    checkpoint_path = os.path.join(os.getcwd(), \"num_text_models\\cp.ckpt\")\n",
    "    checkpoint_dir = os.path.dirname(checkpoint_path)\n",
    "    # Create a callback that saves the model's weights\n",
    "    cp_callback = tf.keras.callbacks.ModelCheckpoint(filepath=checkpoint_path,\n",
    "                                                    save_weights_only=True\n",
    "                                                    )\n",
    "    return model, cp_callback"
   ]
  },
  {
   "cell_type": "code",
   "execution_count": 126,
   "metadata": {},
   "outputs": [],
   "source": [
    "model, cp_callback = get_model(data_train, 200)"
   ]
  },
  {
   "cell_type": "code",
   "execution_count": 132,
   "metadata": {},
   "outputs": [
    {
     "name": "stdout",
     "output_type": "stream",
     "text": [
      "Epoch 1/10\n",
      "24/24 [==============================] - 0s 10ms/step - loss: 0.6372 - recall: 0.7074 - val_loss: 0.6477 - val_recall: 0.6818\n",
      "Epoch 2/10\n",
      "24/24 [==============================] - 0s 9ms/step - loss: 0.6351 - recall: 0.6773 - val_loss: 0.6489 - val_recall: 0.6584\n",
      "Epoch 3/10\n",
      "24/24 [==============================] - 0s 9ms/step - loss: 0.6347 - recall: 0.6620 - val_loss: 0.6488 - val_recall: 0.6474\n",
      "Epoch 4/10\n",
      "24/24 [==============================] - 0s 8ms/step - loss: 0.6347 - recall: 0.6543 - val_loss: 0.6497 - val_recall: 0.6591\n",
      "Epoch 5/10\n",
      "24/24 [==============================] - 0s 9ms/step - loss: 0.6346 - recall: 0.6665 - val_loss: 0.6501 - val_recall: 0.6578\n",
      "Epoch 6/10\n",
      "24/24 [==============================] - 0s 9ms/step - loss: 0.6346 - recall: 0.6512 - val_loss: 0.6496 - val_recall: 0.6532\n",
      "Epoch 7/10\n",
      "24/24 [==============================] - 0s 8ms/step - loss: 0.6346 - recall: 0.6610 - val_loss: 0.6498 - val_recall: 0.6442\n",
      "Epoch 8/10\n",
      "24/24 [==============================] - 0s 9ms/step - loss: 0.6345 - recall: 0.6567 - val_loss: 0.6497 - val_recall: 0.6500\n",
      "Epoch 9/10\n",
      "24/24 [==============================] - 0s 9ms/step - loss: 0.6343 - recall: 0.6682 - val_loss: 0.6497 - val_recall: 0.6500\n",
      "Epoch 10/10\n",
      "24/24 [==============================] - 0s 9ms/step - loss: 0.6346 - recall: 0.6635 - val_loss: 0.6493 - val_recall: 0.6474\n"
     ]
    },
    {
     "data": {
      "text/plain": [
       "<keras.src.callbacks.History at 0x1882ef3f890>"
      ]
     },
     "execution_count": 132,
     "metadata": {},
     "output_type": "execute_result"
    }
   ],
   "source": [
    "model.fit(\n",
    "    x= data_train, \n",
    "    y= label_train, \n",
    "    epochs= 10, \n",
    "    batch_size = 2**9, \n",
    "    validation_data = (data_eval,label_eval),\n",
    "    callbacks= [cp_callback]\n",
    "    )"
   ]
  },
  {
   "cell_type": "markdown",
   "metadata": {},
   "source": [
    "# Try changing target variable format"
   ]
  },
  {
   "cell_type": "code",
   "execution_count": 128,
   "metadata": {},
   "outputs": [],
   "source": [
    "train['AdoptionSpeed'] = train['AdoptionSpeed'].astype(int).apply(lambda x: \n",
    "                                                1 if x <= 2\n",
    "                                                else 0\n",
    "                                                ) # 1 =  Fast (<1 moth), 0 = Slow (>=1 month)"
   ]
  },
  {
   "cell_type": "code",
   "execution_count": 129,
   "metadata": {},
   "outputs": [],
   "source": [
    "########  DEFINING A FUNCTION THAT PREPARE CORRECT INPUT FOR MODEL #########\n",
    "def get_input_new(df, breed,color,state):\n",
    "    # Merging with other tables to get labels\n",
    "    df_drop = df.drop(['PhotoAmt','PetID','Description','VideoAmt','RescuerID','Name'],axis=1)\n",
    "    df_drop = df_drop.rename(columns={'Breed1':'BreedID'}).merge(breed, on=['BreedID','Type'],how='left').drop('BreedID',axis=1)\n",
    "    df_drop = df_drop.rename(columns={'Breed2':'BreedID'}).merge(breed, on=['BreedID','Type'],how='left').drop('BreedID',axis=1)\n",
    "    \n",
    "    for color_col in ['Color1','Color2','Color3']:\n",
    "        df_drop = df_drop.rename(columns={color_col: 'ColorID'}).merge(color, on ='ColorID', how = 'left').drop('ColorID',axis=1)\n",
    "    df_drop = df_drop.rename(columns={'State':'StateID'}).merge(state,on ='StateID', how = 'left').drop('StateID',axis=1)\n",
    "\n",
    "    # Get label of data to understand the context\n",
    "    label_dict = {\n",
    "        'Type': ['Not specified','Dog','Cat'],\n",
    "        'Gender': ['Not specified','Male','Female','Mixed'],\n",
    "        'FurLength': ['Not specified','Short','Medium','Long'],\n",
    "        'Vaccinated': ['Not specified','Yes','No'],\n",
    "        'Dewormed': ['Not specified','Yes','No'],\n",
    "        'Sterilized': ['Not specified','Yes','No'],\n",
    "        'Health': ['Not specified','Healthy','Minor Injury','Serious Injury'],\n",
    "        'MaturitySize': ['Not specified','Small','Medium','Large','Extra Large']\n",
    "    }\n",
    "\n",
    "    for col in df_drop.columns:\n",
    "        if col in label_dict:\n",
    "            label_list = label_dict[col]\n",
    "            for number in range(len(label_list)):\n",
    "                df_drop[col][df_drop[col] == number] = label_list[number]\n",
    "    df_labeled = df_drop\n",
    "    df_dummy = pd.get_dummies(df_labeled,dtype=int)\n",
    "    \n",
    "    return df_dummy, df_labeled"
   ]
  },
  {
   "cell_type": "markdown",
   "metadata": {},
   "source": [
    "### Neural network"
   ]
  },
  {
   "cell_type": "code",
   "execution_count": 130,
   "metadata": {},
   "outputs": [
    {
     "name": "stdout",
     "output_type": "stream",
     "text": [
      "(11994, 367) (11994, 1) (2999, 367) (2999, 1)\n"
     ]
    }
   ],
   "source": [
    "# get desired input\n",
    "data_train_eval = get_input_new(train, breed, color, state)[0] # take df_dum\n",
    "label_train_eval = data_train_eval[['AdoptionSpeed']]\n",
    "data_train_eval = data_train_eval.drop('AdoptionSpeed', axis = 1)\n",
    "\n",
    "# Split train data to train - evaluate set:\n",
    "n_split = math.floor(data_train_eval.shape[0] * 0.8)\n",
    "\n",
    "data_train = data_train_eval.iloc[:n_split,:]\n",
    "data_eval = data_train_eval.iloc[n_split:,:]\n",
    "\n",
    "label_train = label_train_eval.iloc[:n_split,:]\n",
    "label_eval = label_train_eval.iloc[n_split:,:]\n",
    "\n",
    "# print out shape\n",
    "print(\n",
    "    data_train.shape,\n",
    "    label_train.shape,\n",
    "    data_eval.shape,\n",
    "    label_eval.shape \n",
    ")"
   ]
  },
  {
   "cell_type": "code",
   "execution_count": 131,
   "metadata": {},
   "outputs": [
    {
     "name": "stdout",
     "output_type": "stream",
     "text": [
      "Epoch 1/100\n",
      "375/375 [==============================] - 1s 2ms/step - loss: 0.8392 - recall: 0.6405 - val_loss: 0.6653 - val_recall: 0.5552\n",
      "Epoch 2/100\n",
      "375/375 [==============================] - 0s 1ms/step - loss: 0.6918 - recall: 0.6392 - val_loss: 0.6872 - val_recall: 0.7078\n",
      "Epoch 3/100\n",
      "375/375 [==============================] - 0s 1ms/step - loss: 0.6711 - recall: 0.6308 - val_loss: 0.6651 - val_recall: 0.7558\n",
      "Epoch 4/100\n",
      "375/375 [==============================] - 0s 1ms/step - loss: 0.6795 - recall: 0.6627 - val_loss: 0.6759 - val_recall: 0.5058\n",
      "Epoch 5/100\n",
      "375/375 [==============================] - 0s 1ms/step - loss: 0.6554 - recall: 0.6455 - val_loss: 0.6719 - val_recall: 0.7799\n",
      "Epoch 6/100\n",
      "375/375 [==============================] - 0s 1ms/step - loss: 0.6772 - recall: 0.6490 - val_loss: 0.6537 - val_recall: 0.6026\n",
      "Epoch 7/100\n",
      "375/375 [==============================] - 0s 1ms/step - loss: 0.6680 - recall: 0.6695 - val_loss: 0.6518 - val_recall: 0.6552\n",
      "Epoch 8/100\n",
      "375/375 [==============================] - 0s 1ms/step - loss: 0.6650 - recall: 0.6530 - val_loss: 0.6641 - val_recall: 0.6870\n",
      "Epoch 9/100\n",
      "375/375 [==============================] - 0s 1ms/step - loss: 0.6505 - recall: 0.6412 - val_loss: 0.6598 - val_recall: 0.6669\n",
      "Epoch 10/100\n",
      "375/375 [==============================] - 0s 1ms/step - loss: 0.6544 - recall: 0.6643 - val_loss: 0.6544 - val_recall: 0.6091\n",
      "Epoch 11/100\n",
      "375/375 [==============================] - 0s 1ms/step - loss: 0.6529 - recall: 0.6518 - val_loss: 0.6500 - val_recall: 0.6838\n",
      "Epoch 12/100\n",
      "375/375 [==============================] - 0s 1ms/step - loss: 0.6489 - recall: 0.6478 - val_loss: 0.6581 - val_recall: 0.5234\n",
      "Epoch 13/100\n",
      "375/375 [==============================] - 0s 1ms/step - loss: 0.6495 - recall: 0.6448 - val_loss: 0.6488 - val_recall: 0.6714\n",
      "Epoch 14/100\n",
      "375/375 [==============================] - 0s 1ms/step - loss: 0.6506 - recall: 0.6542 - val_loss: 0.6527 - val_recall: 0.6039\n",
      "Epoch 15/100\n",
      "375/375 [==============================] - 0s 1ms/step - loss: 0.6476 - recall: 0.6533 - val_loss: 0.6481 - val_recall: 0.6565\n",
      "Epoch 16/100\n",
      "375/375 [==============================] - 1s 1ms/step - loss: 0.6471 - recall: 0.6450 - val_loss: 0.6839 - val_recall: 0.6968\n",
      "Epoch 17/100\n",
      "375/375 [==============================] - 0s 1ms/step - loss: 0.6479 - recall: 0.6630 - val_loss: 0.6509 - val_recall: 0.6909\n",
      "Epoch 18/100\n",
      "375/375 [==============================] - 0s 1ms/step - loss: 0.6455 - recall: 0.6502 - val_loss: 0.6503 - val_recall: 0.6266\n",
      "Epoch 19/100\n",
      "375/375 [==============================] - 0s 1ms/step - loss: 0.6453 - recall: 0.6483 - val_loss: 0.6565 - val_recall: 0.6662\n",
      "Epoch 20/100\n",
      "375/375 [==============================] - 0s 1ms/step - loss: 0.6456 - recall: 0.6528 - val_loss: 0.6470 - val_recall: 0.6974\n",
      "Epoch 21/100\n",
      "375/375 [==============================] - 0s 1ms/step - loss: 0.6453 - recall: 0.6515 - val_loss: 0.6515 - val_recall: 0.6318\n",
      "Epoch 22/100\n",
      "375/375 [==============================] - 1s 1ms/step - loss: 0.6441 - recall: 0.6527 - val_loss: 0.6505 - val_recall: 0.6149\n",
      "Epoch 23/100\n",
      "375/375 [==============================] - 0s 1ms/step - loss: 0.6450 - recall: 0.6598 - val_loss: 0.6502 - val_recall: 0.6584\n",
      "Epoch 24/100\n",
      "375/375 [==============================] - 0s 1ms/step - loss: 0.6452 - recall: 0.6462 - val_loss: 0.6469 - val_recall: 0.6487\n",
      "Epoch 25/100\n",
      "375/375 [==============================] - 0s 1ms/step - loss: 0.6487 - recall: 0.6492 - val_loss: 0.6482 - val_recall: 0.7182\n",
      "Epoch 26/100\n",
      "375/375 [==============================] - 1s 1ms/step - loss: 0.6491 - recall: 0.6532 - val_loss: 0.6568 - val_recall: 0.6870\n",
      "Epoch 27/100\n",
      "375/375 [==============================] - 0s 1ms/step - loss: 0.6429 - recall: 0.6578 - val_loss: 0.6511 - val_recall: 0.6065\n",
      "Epoch 28/100\n",
      "375/375 [==============================] - 1s 3ms/step - loss: 0.6430 - recall: 0.6513 - val_loss: 0.6485 - val_recall: 0.6669\n",
      "Epoch 29/100\n",
      "375/375 [==============================] - 1s 1ms/step - loss: 0.6424 - recall: 0.6495 - val_loss: 0.6486 - val_recall: 0.6643\n",
      "Epoch 30/100\n",
      "375/375 [==============================] - 1s 2ms/step - loss: 0.6432 - recall: 0.6533 - val_loss: 0.6484 - val_recall: 0.6747\n",
      "Epoch 31/100\n",
      "375/375 [==============================] - 1s 2ms/step - loss: 0.6435 - recall: 0.6620 - val_loss: 0.6590 - val_recall: 0.6468\n",
      "Epoch 32/100\n",
      "375/375 [==============================] - 1s 2ms/step - loss: 0.6415 - recall: 0.6620 - val_loss: 0.6498 - val_recall: 0.5890\n",
      "Epoch 33/100\n",
      "375/375 [==============================] - 1s 1ms/step - loss: 0.6417 - recall: 0.6525 - val_loss: 0.6486 - val_recall: 0.6390\n",
      "Epoch 34/100\n",
      "375/375 [==============================] - 1s 2ms/step - loss: 0.6427 - recall: 0.6548 - val_loss: 0.6472 - val_recall: 0.6422\n",
      "Epoch 35/100\n",
      "375/375 [==============================] - 1s 1ms/step - loss: 0.6421 - recall: 0.6613 - val_loss: 0.6708 - val_recall: 0.5864\n",
      "Epoch 36/100\n",
      "375/375 [==============================] - 1s 2ms/step - loss: 0.6440 - recall: 0.6552 - val_loss: 0.6540 - val_recall: 0.5714\n",
      "Epoch 37/100\n",
      "375/375 [==============================] - 1s 2ms/step - loss: 0.6416 - recall: 0.6527 - val_loss: 0.6511 - val_recall: 0.6636\n",
      "Epoch 38/100\n",
      "375/375 [==============================] - 1s 1ms/step - loss: 0.6416 - recall: 0.6567 - val_loss: 0.6479 - val_recall: 0.6695\n",
      "Epoch 39/100\n",
      "375/375 [==============================] - 1s 1ms/step - loss: 0.6392 - recall: 0.6582 - val_loss: 0.6731 - val_recall: 0.7084\n",
      "Epoch 40/100\n",
      "375/375 [==============================] - 1s 1ms/step - loss: 0.6406 - recall: 0.6602 - val_loss: 0.6482 - val_recall: 0.6578\n",
      "Epoch 41/100\n",
      "375/375 [==============================] - 1s 1ms/step - loss: 0.6407 - recall: 0.6628 - val_loss: 0.6584 - val_recall: 0.6714\n",
      "Epoch 42/100\n",
      "375/375 [==============================] - 1s 2ms/step - loss: 0.6412 - recall: 0.6560 - val_loss: 0.6484 - val_recall: 0.6727\n",
      "Epoch 43/100\n",
      "375/375 [==============================] - 1s 2ms/step - loss: 0.6417 - recall: 0.6660 - val_loss: 0.6481 - val_recall: 0.6214\n",
      "Epoch 44/100\n",
      "375/375 [==============================] - 1s 2ms/step - loss: 0.6393 - recall: 0.6438 - val_loss: 0.6591 - val_recall: 0.7701\n",
      "Epoch 45/100\n",
      "375/375 [==============================] - 1s 2ms/step - loss: 0.6417 - recall: 0.6653 - val_loss: 0.6509 - val_recall: 0.5760\n",
      "Epoch 46/100\n",
      "375/375 [==============================] - 1s 2ms/step - loss: 0.6390 - recall: 0.6513 - val_loss: 0.6510 - val_recall: 0.6675\n",
      "Epoch 47/100\n",
      "375/375 [==============================] - 1s 2ms/step - loss: 0.6426 - recall: 0.6575 - val_loss: 0.6554 - val_recall: 0.6935\n",
      "Epoch 48/100\n",
      "120/375 [========>.....................] - ETA: 0s - loss: 0.6407 - recall: 0.6595"
     ]
    },
    {
     "ename": "KeyboardInterrupt",
     "evalue": "",
     "output_type": "error",
     "traceback": [
      "\u001b[1;31m---------------------------------------------------------------------------\u001b[0m",
      "\u001b[1;31mKeyboardInterrupt\u001b[0m                         Traceback (most recent call last)",
      "\u001b[1;32mc:\\Users\\Admin\\PetAdoption\\PetAdoption_code.ipynb Cell 40\u001b[0m line \u001b[0;36m1\n\u001b[0;32m      <a href='vscode-notebook-cell:/c%3A/Users/Admin/PetAdoption/PetAdoption_code.ipynb#X55sZmlsZQ%3D%3D?line=0'>1</a>\u001b[0m model \u001b[39m=\u001b[39m tf\u001b[39m.\u001b[39mkeras\u001b[39m.\u001b[39mSequential([\n\u001b[0;32m      <a href='vscode-notebook-cell:/c%3A/Users/Admin/PetAdoption/PetAdoption_code.ipynb#X55sZmlsZQ%3D%3D?line=1'>2</a>\u001b[0m     tf\u001b[39m.\u001b[39mkeras\u001b[39m.\u001b[39mInput(shape\u001b[39m=\u001b[39m(data_train\u001b[39m.\u001b[39mshape[\u001b[39m1\u001b[39m],)),\n\u001b[0;32m      <a href='vscode-notebook-cell:/c%3A/Users/Admin/PetAdoption/PetAdoption_code.ipynb#X55sZmlsZQ%3D%3D?line=2'>3</a>\u001b[0m     tf\u001b[39m.\u001b[39mkeras\u001b[39m.\u001b[39mlayers\u001b[39m.\u001b[39mDense(units\u001b[39m=\u001b[39m\u001b[39m200\u001b[39m),\n\u001b[1;32m   (...)\u001b[0m\n\u001b[0;32m      <a href='vscode-notebook-cell:/c%3A/Users/Admin/PetAdoption/PetAdoption_code.ipynb#X55sZmlsZQ%3D%3D?line=6'>7</a>\u001b[0m     tf\u001b[39m.\u001b[39mkeras\u001b[39m.\u001b[39mlayers\u001b[39m.\u001b[39mDense(units\u001b[39m=\u001b[39m\u001b[39m1\u001b[39m, activation\u001b[39m=\u001b[39m\u001b[39m'\u001b[39m\u001b[39msigmoid\u001b[39m\u001b[39m'\u001b[39m),\n\u001b[0;32m      <a href='vscode-notebook-cell:/c%3A/Users/Admin/PetAdoption/PetAdoption_code.ipynb#X55sZmlsZQ%3D%3D?line=7'>8</a>\u001b[0m ])\n\u001b[0;32m     <a href='vscode-notebook-cell:/c%3A/Users/Admin/PetAdoption/PetAdoption_code.ipynb#X55sZmlsZQ%3D%3D?line=9'>10</a>\u001b[0m model\u001b[39m.\u001b[39mcompile(\n\u001b[0;32m     <a href='vscode-notebook-cell:/c%3A/Users/Admin/PetAdoption/PetAdoption_code.ipynb#X55sZmlsZQ%3D%3D?line=10'>11</a>\u001b[0m     loss\u001b[39m=\u001b[39m \u001b[39m'\u001b[39m\u001b[39mBinaryCrossentropy\u001b[39m\u001b[39m'\u001b[39m,\n\u001b[0;32m     <a href='vscode-notebook-cell:/c%3A/Users/Admin/PetAdoption/PetAdoption_code.ipynb#X55sZmlsZQ%3D%3D?line=11'>12</a>\u001b[0m     optimizer\u001b[39m=\u001b[39m \u001b[39m'\u001b[39m\u001b[39mAdam\u001b[39m\u001b[39m'\u001b[39m,\n\u001b[0;32m     <a href='vscode-notebook-cell:/c%3A/Users/Admin/PetAdoption/PetAdoption_code.ipynb#X55sZmlsZQ%3D%3D?line=12'>13</a>\u001b[0m     metrics \u001b[39m=\u001b[39m [\u001b[39m'\u001b[39m\u001b[39mRecall\u001b[39m\u001b[39m'\u001b[39m]\n\u001b[0;32m     <a href='vscode-notebook-cell:/c%3A/Users/Admin/PetAdoption/PetAdoption_code.ipynb#X55sZmlsZQ%3D%3D?line=13'>14</a>\u001b[0m )\n\u001b[1;32m---> <a href='vscode-notebook-cell:/c%3A/Users/Admin/PetAdoption/PetAdoption_code.ipynb#X55sZmlsZQ%3D%3D?line=15'>16</a>\u001b[0m model\u001b[39m.\u001b[39;49mfit(\n\u001b[0;32m     <a href='vscode-notebook-cell:/c%3A/Users/Admin/PetAdoption/PetAdoption_code.ipynb#X55sZmlsZQ%3D%3D?line=16'>17</a>\u001b[0m     data_train,\n\u001b[0;32m     <a href='vscode-notebook-cell:/c%3A/Users/Admin/PetAdoption/PetAdoption_code.ipynb#X55sZmlsZQ%3D%3D?line=17'>18</a>\u001b[0m     label_train,\n\u001b[0;32m     <a href='vscode-notebook-cell:/c%3A/Users/Admin/PetAdoption/PetAdoption_code.ipynb#X55sZmlsZQ%3D%3D?line=18'>19</a>\u001b[0m     epochs \u001b[39m=\u001b[39;49m \u001b[39m100\u001b[39;49m,\n\u001b[0;32m     <a href='vscode-notebook-cell:/c%3A/Users/Admin/PetAdoption/PetAdoption_code.ipynb#X55sZmlsZQ%3D%3D?line=19'>20</a>\u001b[0m     validation_data\u001b[39m=\u001b[39;49m(data_eval, label_eval)\n\u001b[0;32m     <a href='vscode-notebook-cell:/c%3A/Users/Admin/PetAdoption/PetAdoption_code.ipynb#X55sZmlsZQ%3D%3D?line=20'>21</a>\u001b[0m )\n",
      "File \u001b[1;32mc:\\Users\\Admin\\AppData\\Local\\Programs\\Python\\Python311\\Lib\\site-packages\\keras\\src\\utils\\traceback_utils.py:65\u001b[0m, in \u001b[0;36mfilter_traceback.<locals>.error_handler\u001b[1;34m(*args, **kwargs)\u001b[0m\n\u001b[0;32m     63\u001b[0m filtered_tb \u001b[39m=\u001b[39m \u001b[39mNone\u001b[39;00m\n\u001b[0;32m     64\u001b[0m \u001b[39mtry\u001b[39;00m:\n\u001b[1;32m---> 65\u001b[0m     \u001b[39mreturn\u001b[39;00m fn(\u001b[39m*\u001b[39;49margs, \u001b[39m*\u001b[39;49m\u001b[39m*\u001b[39;49mkwargs)\n\u001b[0;32m     66\u001b[0m \u001b[39mexcept\u001b[39;00m \u001b[39mException\u001b[39;00m \u001b[39mas\u001b[39;00m e:\n\u001b[0;32m     67\u001b[0m     filtered_tb \u001b[39m=\u001b[39m _process_traceback_frames(e\u001b[39m.\u001b[39m__traceback__)\n",
      "File \u001b[1;32mc:\\Users\\Admin\\AppData\\Local\\Programs\\Python\\Python311\\Lib\\site-packages\\keras\\src\\engine\\training.py:1742\u001b[0m, in \u001b[0;36mModel.fit\u001b[1;34m(self, x, y, batch_size, epochs, verbose, callbacks, validation_split, validation_data, shuffle, class_weight, sample_weight, initial_epoch, steps_per_epoch, validation_steps, validation_batch_size, validation_freq, max_queue_size, workers, use_multiprocessing)\u001b[0m\n\u001b[0;32m   1734\u001b[0m \u001b[39mwith\u001b[39;00m tf\u001b[39m.\u001b[39mprofiler\u001b[39m.\u001b[39mexperimental\u001b[39m.\u001b[39mTrace(\n\u001b[0;32m   1735\u001b[0m     \u001b[39m\"\u001b[39m\u001b[39mtrain\u001b[39m\u001b[39m\"\u001b[39m,\n\u001b[0;32m   1736\u001b[0m     epoch_num\u001b[39m=\u001b[39mepoch,\n\u001b[1;32m   (...)\u001b[0m\n\u001b[0;32m   1739\u001b[0m     _r\u001b[39m=\u001b[39m\u001b[39m1\u001b[39m,\n\u001b[0;32m   1740\u001b[0m ):\n\u001b[0;32m   1741\u001b[0m     callbacks\u001b[39m.\u001b[39mon_train_batch_begin(step)\n\u001b[1;32m-> 1742\u001b[0m     tmp_logs \u001b[39m=\u001b[39m \u001b[39mself\u001b[39;49m\u001b[39m.\u001b[39;49mtrain_function(iterator)\n\u001b[0;32m   1743\u001b[0m     \u001b[39mif\u001b[39;00m data_handler\u001b[39m.\u001b[39mshould_sync:\n\u001b[0;32m   1744\u001b[0m         context\u001b[39m.\u001b[39masync_wait()\n",
      "File \u001b[1;32mc:\\Users\\Admin\\AppData\\Local\\Programs\\Python\\Python311\\Lib\\site-packages\\tensorflow\\python\\util\\traceback_utils.py:150\u001b[0m, in \u001b[0;36mfilter_traceback.<locals>.error_handler\u001b[1;34m(*args, **kwargs)\u001b[0m\n\u001b[0;32m    148\u001b[0m filtered_tb \u001b[39m=\u001b[39m \u001b[39mNone\u001b[39;00m\n\u001b[0;32m    149\u001b[0m \u001b[39mtry\u001b[39;00m:\n\u001b[1;32m--> 150\u001b[0m   \u001b[39mreturn\u001b[39;00m fn(\u001b[39m*\u001b[39;49margs, \u001b[39m*\u001b[39;49m\u001b[39m*\u001b[39;49mkwargs)\n\u001b[0;32m    151\u001b[0m \u001b[39mexcept\u001b[39;00m \u001b[39mException\u001b[39;00m \u001b[39mas\u001b[39;00m e:\n\u001b[0;32m    152\u001b[0m   filtered_tb \u001b[39m=\u001b[39m _process_traceback_frames(e\u001b[39m.\u001b[39m__traceback__)\n",
      "File \u001b[1;32mc:\\Users\\Admin\\AppData\\Local\\Programs\\Python\\Python311\\Lib\\site-packages\\tensorflow\\python\\eager\\polymorphic_function\\polymorphic_function.py:825\u001b[0m, in \u001b[0;36mFunction.__call__\u001b[1;34m(self, *args, **kwds)\u001b[0m\n\u001b[0;32m    822\u001b[0m compiler \u001b[39m=\u001b[39m \u001b[39m\"\u001b[39m\u001b[39mxla\u001b[39m\u001b[39m\"\u001b[39m \u001b[39mif\u001b[39;00m \u001b[39mself\u001b[39m\u001b[39m.\u001b[39m_jit_compile \u001b[39melse\u001b[39;00m \u001b[39m\"\u001b[39m\u001b[39mnonXla\u001b[39m\u001b[39m\"\u001b[39m\n\u001b[0;32m    824\u001b[0m \u001b[39mwith\u001b[39;00m OptionalXlaContext(\u001b[39mself\u001b[39m\u001b[39m.\u001b[39m_jit_compile):\n\u001b[1;32m--> 825\u001b[0m   result \u001b[39m=\u001b[39m \u001b[39mself\u001b[39;49m\u001b[39m.\u001b[39;49m_call(\u001b[39m*\u001b[39;49margs, \u001b[39m*\u001b[39;49m\u001b[39m*\u001b[39;49mkwds)\n\u001b[0;32m    827\u001b[0m new_tracing_count \u001b[39m=\u001b[39m \u001b[39mself\u001b[39m\u001b[39m.\u001b[39mexperimental_get_tracing_count()\n\u001b[0;32m    828\u001b[0m without_tracing \u001b[39m=\u001b[39m (tracing_count \u001b[39m==\u001b[39m new_tracing_count)\n",
      "File \u001b[1;32mc:\\Users\\Admin\\AppData\\Local\\Programs\\Python\\Python311\\Lib\\site-packages\\tensorflow\\python\\eager\\polymorphic_function\\polymorphic_function.py:857\u001b[0m, in \u001b[0;36mFunction._call\u001b[1;34m(self, *args, **kwds)\u001b[0m\n\u001b[0;32m    854\u001b[0m   \u001b[39mself\u001b[39m\u001b[39m.\u001b[39m_lock\u001b[39m.\u001b[39mrelease()\n\u001b[0;32m    855\u001b[0m   \u001b[39m# In this case we have created variables on the first call, so we run the\u001b[39;00m\n\u001b[0;32m    856\u001b[0m   \u001b[39m# defunned version which is guaranteed to never create variables.\u001b[39;00m\n\u001b[1;32m--> 857\u001b[0m   \u001b[39mreturn\u001b[39;00m \u001b[39mself\u001b[39;49m\u001b[39m.\u001b[39;49m_no_variable_creation_fn(\u001b[39m*\u001b[39;49margs, \u001b[39m*\u001b[39;49m\u001b[39m*\u001b[39;49mkwds)  \u001b[39m# pylint: disable=not-callable\u001b[39;00m\n\u001b[0;32m    858\u001b[0m \u001b[39melif\u001b[39;00m \u001b[39mself\u001b[39m\u001b[39m.\u001b[39m_variable_creation_fn \u001b[39mis\u001b[39;00m \u001b[39mnot\u001b[39;00m \u001b[39mNone\u001b[39;00m:\n\u001b[0;32m    859\u001b[0m   \u001b[39m# Release the lock early so that multiple threads can perform the call\u001b[39;00m\n\u001b[0;32m    860\u001b[0m   \u001b[39m# in parallel.\u001b[39;00m\n\u001b[0;32m    861\u001b[0m   \u001b[39mself\u001b[39m\u001b[39m.\u001b[39m_lock\u001b[39m.\u001b[39mrelease()\n",
      "File \u001b[1;32mc:\\Users\\Admin\\AppData\\Local\\Programs\\Python\\Python311\\Lib\\site-packages\\tensorflow\\python\\eager\\polymorphic_function\\tracing_compiler.py:148\u001b[0m, in \u001b[0;36mTracingCompiler.__call__\u001b[1;34m(self, *args, **kwargs)\u001b[0m\n\u001b[0;32m    145\u001b[0m \u001b[39mwith\u001b[39;00m \u001b[39mself\u001b[39m\u001b[39m.\u001b[39m_lock:\n\u001b[0;32m    146\u001b[0m   (concrete_function,\n\u001b[0;32m    147\u001b[0m    filtered_flat_args) \u001b[39m=\u001b[39m \u001b[39mself\u001b[39m\u001b[39m.\u001b[39m_maybe_define_function(args, kwargs)\n\u001b[1;32m--> 148\u001b[0m \u001b[39mreturn\u001b[39;00m concrete_function\u001b[39m.\u001b[39;49m_call_flat(\n\u001b[0;32m    149\u001b[0m     filtered_flat_args, captured_inputs\u001b[39m=\u001b[39;49mconcrete_function\u001b[39m.\u001b[39;49mcaptured_inputs)\n",
      "File \u001b[1;32mc:\\Users\\Admin\\AppData\\Local\\Programs\\Python\\Python311\\Lib\\site-packages\\tensorflow\\python\\eager\\polymorphic_function\\monomorphic_function.py:1349\u001b[0m, in \u001b[0;36mConcreteFunction._call_flat\u001b[1;34m(self, args, captured_inputs)\u001b[0m\n\u001b[0;32m   1345\u001b[0m possible_gradient_type \u001b[39m=\u001b[39m gradients_util\u001b[39m.\u001b[39mPossibleTapeGradientTypes(args)\n\u001b[0;32m   1346\u001b[0m \u001b[39mif\u001b[39;00m (possible_gradient_type \u001b[39m==\u001b[39m gradients_util\u001b[39m.\u001b[39mPOSSIBLE_GRADIENT_TYPES_NONE\n\u001b[0;32m   1347\u001b[0m     \u001b[39mand\u001b[39;00m executing_eagerly):\n\u001b[0;32m   1348\u001b[0m   \u001b[39m# No tape is watching; skip to running the function.\u001b[39;00m\n\u001b[1;32m-> 1349\u001b[0m   \u001b[39mreturn\u001b[39;00m \u001b[39mself\u001b[39m\u001b[39m.\u001b[39m_build_call_outputs(\u001b[39mself\u001b[39;49m\u001b[39m.\u001b[39;49m_inference_function(\u001b[39m*\u001b[39;49margs))\n\u001b[0;32m   1350\u001b[0m forward_backward \u001b[39m=\u001b[39m \u001b[39mself\u001b[39m\u001b[39m.\u001b[39m_select_forward_and_backward_functions(\n\u001b[0;32m   1351\u001b[0m     args,\n\u001b[0;32m   1352\u001b[0m     possible_gradient_type,\n\u001b[0;32m   1353\u001b[0m     executing_eagerly)\n\u001b[0;32m   1354\u001b[0m forward_function, args_with_tangents \u001b[39m=\u001b[39m forward_backward\u001b[39m.\u001b[39mforward()\n",
      "File \u001b[1;32mc:\\Users\\Admin\\AppData\\Local\\Programs\\Python\\Python311\\Lib\\site-packages\\tensorflow\\python\\eager\\polymorphic_function\\atomic_function.py:196\u001b[0m, in \u001b[0;36mAtomicFunction.__call__\u001b[1;34m(self, *args)\u001b[0m\n\u001b[0;32m    194\u001b[0m \u001b[39mwith\u001b[39;00m record\u001b[39m.\u001b[39mstop_recording():\n\u001b[0;32m    195\u001b[0m   \u001b[39mif\u001b[39;00m \u001b[39mself\u001b[39m\u001b[39m.\u001b[39m_bound_context\u001b[39m.\u001b[39mexecuting_eagerly():\n\u001b[1;32m--> 196\u001b[0m     outputs \u001b[39m=\u001b[39m \u001b[39mself\u001b[39;49m\u001b[39m.\u001b[39;49m_bound_context\u001b[39m.\u001b[39;49mcall_function(\n\u001b[0;32m    197\u001b[0m         \u001b[39mself\u001b[39;49m\u001b[39m.\u001b[39;49mname,\n\u001b[0;32m    198\u001b[0m         \u001b[39mlist\u001b[39;49m(args),\n\u001b[0;32m    199\u001b[0m         \u001b[39mlen\u001b[39;49m(\u001b[39mself\u001b[39;49m\u001b[39m.\u001b[39;49mfunction_type\u001b[39m.\u001b[39;49mflat_outputs),\n\u001b[0;32m    200\u001b[0m     )\n\u001b[0;32m    201\u001b[0m   \u001b[39melse\u001b[39;00m:\n\u001b[0;32m    202\u001b[0m     outputs \u001b[39m=\u001b[39m make_call_op_in_graph(\u001b[39mself\u001b[39m, \u001b[39mlist\u001b[39m(args))\n",
      "File \u001b[1;32mc:\\Users\\Admin\\AppData\\Local\\Programs\\Python\\Python311\\Lib\\site-packages\\tensorflow\\python\\eager\\context.py:1457\u001b[0m, in \u001b[0;36mContext.call_function\u001b[1;34m(self, name, tensor_inputs, num_outputs)\u001b[0m\n\u001b[0;32m   1455\u001b[0m cancellation_context \u001b[39m=\u001b[39m cancellation\u001b[39m.\u001b[39mcontext()\n\u001b[0;32m   1456\u001b[0m \u001b[39mif\u001b[39;00m cancellation_context \u001b[39mis\u001b[39;00m \u001b[39mNone\u001b[39;00m:\n\u001b[1;32m-> 1457\u001b[0m   outputs \u001b[39m=\u001b[39m execute\u001b[39m.\u001b[39;49mexecute(\n\u001b[0;32m   1458\u001b[0m       name\u001b[39m.\u001b[39;49mdecode(\u001b[39m\"\u001b[39;49m\u001b[39mutf-8\u001b[39;49m\u001b[39m\"\u001b[39;49m),\n\u001b[0;32m   1459\u001b[0m       num_outputs\u001b[39m=\u001b[39;49mnum_outputs,\n\u001b[0;32m   1460\u001b[0m       inputs\u001b[39m=\u001b[39;49mtensor_inputs,\n\u001b[0;32m   1461\u001b[0m       attrs\u001b[39m=\u001b[39;49mattrs,\n\u001b[0;32m   1462\u001b[0m       ctx\u001b[39m=\u001b[39;49m\u001b[39mself\u001b[39;49m,\n\u001b[0;32m   1463\u001b[0m   )\n\u001b[0;32m   1464\u001b[0m \u001b[39melse\u001b[39;00m:\n\u001b[0;32m   1465\u001b[0m   outputs \u001b[39m=\u001b[39m execute\u001b[39m.\u001b[39mexecute_with_cancellation(\n\u001b[0;32m   1466\u001b[0m       name\u001b[39m.\u001b[39mdecode(\u001b[39m\"\u001b[39m\u001b[39mutf-8\u001b[39m\u001b[39m\"\u001b[39m),\n\u001b[0;32m   1467\u001b[0m       num_outputs\u001b[39m=\u001b[39mnum_outputs,\n\u001b[1;32m   (...)\u001b[0m\n\u001b[0;32m   1471\u001b[0m       cancellation_manager\u001b[39m=\u001b[39mcancellation_context,\n\u001b[0;32m   1472\u001b[0m   )\n",
      "File \u001b[1;32mc:\\Users\\Admin\\AppData\\Local\\Programs\\Python\\Python311\\Lib\\site-packages\\tensorflow\\python\\eager\\execute.py:53\u001b[0m, in \u001b[0;36mquick_execute\u001b[1;34m(op_name, num_outputs, inputs, attrs, ctx, name)\u001b[0m\n\u001b[0;32m     51\u001b[0m \u001b[39mtry\u001b[39;00m:\n\u001b[0;32m     52\u001b[0m   ctx\u001b[39m.\u001b[39mensure_initialized()\n\u001b[1;32m---> 53\u001b[0m   tensors \u001b[39m=\u001b[39m pywrap_tfe\u001b[39m.\u001b[39;49mTFE_Py_Execute(ctx\u001b[39m.\u001b[39;49m_handle, device_name, op_name,\n\u001b[0;32m     54\u001b[0m                                       inputs, attrs, num_outputs)\n\u001b[0;32m     55\u001b[0m \u001b[39mexcept\u001b[39;00m core\u001b[39m.\u001b[39m_NotOkStatusException \u001b[39mas\u001b[39;00m e:\n\u001b[0;32m     56\u001b[0m   \u001b[39mif\u001b[39;00m name \u001b[39mis\u001b[39;00m \u001b[39mnot\u001b[39;00m \u001b[39mNone\u001b[39;00m:\n",
      "\u001b[1;31mKeyboardInterrupt\u001b[0m: "
     ]
    }
   ],
   "source": [
    "model = tf.keras.Sequential([\n",
    "    tf.keras.Input(shape=(data_train.shape[1],)),\n",
    "    tf.keras.layers.Dense(units=200),\n",
    "    tf.keras.layers.Dense(units=150),\n",
    "    tf.keras.layers.Dense(units=100),\n",
    "    tf.keras.layers.Dense(units=50),\n",
    "    tf.keras.layers.Dense(units=1, activation='sigmoid'),\n",
    "])\n",
    "\n",
    "model.compile(\n",
    "    loss= 'BinaryCrossentropy',\n",
    "    optimizer= 'Adam',\n",
    "    metrics = ['Recall']\n",
    ")\n",
    "\n",
    "model.fit(\n",
    "    data_train,\n",
    "    label_train,\n",
    "    epochs = 100,\n",
    "    validation_data=(data_eval, label_eval)\n",
    ")"
   ]
  },
  {
   "cell_type": "code",
   "execution_count": null,
   "metadata": {},
   "outputs": [],
   "source": [
    "def labeling_evaluating(y_true, y_pred, threshold):\n",
    "    y_pred[y_pred > threshold] = 1\n",
    "    y_pred[y_pred <= threshold] = 0\n",
    "\n",
    "    cm = confusion_matrix(y_true, y_pred)\n",
    "    print(cm)\n",
    "\n",
    "    # visualizing confusion matrix:\n",
    "    sns.heatmap(cm, annot=True, cmap=\"crest\", fmt='.4g')\n",
    "\n",
    "    # calcualte metric dict \n",
    "    metric_dict = calculate_perform_metrics(cm)\n",
    "    print(metric_dict)"
   ]
  },
  {
   "cell_type": "code",
   "execution_count": null,
   "metadata": {},
   "outputs": [],
   "source": [
    "labeling_evaluating(label_eval, \n",
    "                    model.predict(data_eval), \n",
    "                    threshold = 0.5)"
   ]
  },
  {
   "cell_type": "markdown",
   "metadata": {},
   "source": [
    "### Neural network and RNN"
   ]
  },
  {
   "cell_type": "code",
   "execution_count": null,
   "metadata": {},
   "outputs": [],
   "source": [
    "#### TOKENIZING ON TEXT DATA ####\n",
    "# tokenize base on 'description' column in train data\n",
    "tokenizer = Tokenizer()\n",
    "tokenizer.fit_on_texts(train['Description'].astype(str))\n",
    "# get word index\n",
    "word_index = tokenizer.word_index\n",
    "max_word_index = max(word_index.values()) # 21808\n",
    "\n",
    "#### CONVERTING TEXT TO INDEXES AND TO SEQUENCES ####\n",
    "# convert indexes to sequences\n",
    "train['Description'] = train['Description'].astype(str) # astype of column to string \n",
    "seq = tokenizer.texts_to_sequences(train['Description'])\n",
    "# length of each sentence in 'description' column\n",
    "length_dist = [len(seq_i) for seq_i in seq]\n",
    "sns.kdeplot(length_dist) # most of them center around 200-400, lets set maxlen to 200\n",
    "# padding sequences\n",
    "padded_train_eval = pad_sequences(seq, maxlen = 200,truncating='post', padding='post')"
   ]
  },
  {
   "cell_type": "code",
   "execution_count": null,
   "metadata": {},
   "outputs": [],
   "source": [
    "# get desired input\n",
    "data_train_eval = get_input_new(train, breed, color, state)[0] # take df_dum\n",
    "label_train_eval = data_train_eval[['AdoptionSpeed']]\n",
    "data_train_eval = data_train_eval.drop('AdoptionSpeed', axis = 1)"
   ]
  },
  {
   "cell_type": "code",
   "execution_count": null,
   "metadata": {},
   "outputs": [],
   "source": [
    "##### CONCATINATING TEXT AND NON TEXT DATA #####\n",
    "full_concated_data = np.concatenate((data_train_eval, padded_train_eval), axis=1)"
   ]
  },
  {
   "cell_type": "code",
   "execution_count": null,
   "metadata": {},
   "outputs": [],
   "source": [
    "##### SPLITING INTO TRAIN-EVALUATION DATA SET #####\n",
    "n_split = math.floor(full_concated_data.shape[0] * 0.8)\n",
    "# Split data\n",
    "data_train = full_concated_data[:n_split,:]\n",
    "data_eval = full_concated_data[n_split:,:]\n",
    "# Split label\n",
    "label_train = label_train_eval.iloc[:n_split,:].values\n",
    "label_eval = label_train_eval.iloc[n_split:,:].values\n",
    "# Printing shape of these data sets\n",
    "print(\n",
    "    data_train.shape,\n",
    "    label_train.shape,\n",
    "    data_eval.shape,\n",
    "    label_eval.shape\n",
    ")"
   ]
  },
  {
   "cell_type": "code",
   "execution_count": null,
   "metadata": {},
   "outputs": [],
   "source": [
    "# Function that get model\n",
    "def get_model(input_data, text_dimension):\n",
    "    total_dimension = input_data.shape[1]\n",
    "    textinput_dimension = text_dimension\n",
    "    # Spliting input numerical and text data\n",
    "    input_layer = Input(shape=(total_dimension,))\n",
    "    numin, textin = tf.split(input_layer, num_or_size_splits=[total_dimension - textinput_dimension, textinput_dimension], axis=1)\n",
    "    # Model for numerical data\n",
    "    Dense1 = Dense(200)(numin)\n",
    "    Dense2 = Dense(150)(Dense1)\n",
    "    Dense3 = Dense(100)(Dense2)\n",
    "    Dense4 = Dense(50)(Dense3)\n",
    "    # Model for text data\n",
    "    em = Embedding(max_word_index + 1, 100, input_length = textinput_dimension)(textin) # Current dimension = max_word_index + 1\n",
    "    lstm = LSTM(textinput_dimension)(em) \n",
    "    Dense5 = Dense(50)(lstm)\n",
    "    Dense6 = Dense(20)(Dense5)\n",
    "    # Concatenate value from two previous paths\n",
    "    merged = Concatenate()([Dense4, Dense6])\n",
    "    # Last layer would be softmax\n",
    "    output = Dense(1, activation='sigmoid')(merged)\n",
    "    # Generate model\n",
    "    model = Model(inputs=input_layer, outputs=output)\n",
    "    # Compiling model\n",
    "    model.compile(optimizer='adam', loss='BinaryCrossentropy', metrics=['F1Score'])\n",
    "    # Createing a checkpoint path to automatically save model\n",
    "    checkpoint_path = os.path.join(os.getcwd(), \"num_text_models_new\\cp.ckpt\")\n",
    "    checkpoint_dir = os.path.dirname(checkpoint_path)\n",
    "    # Create a callback that saves the model's weights\n",
    "    cp_callback = tf.keras.callbacks.ModelCheckpoint(filepath=checkpoint_path,\n",
    "                                                    save_weights_only=True\n",
    "                                                    )\n",
    "    return model, cp_callback"
   ]
  },
  {
   "cell_type": "code",
   "execution_count": null,
   "metadata": {},
   "outputs": [],
   "source": [
    "data_train = data_train.astype('float32')\n",
    "label_train = label_train.astype('float32')\n",
    "data_eval = data_eval.astype('float32')\n",
    "label_eval = label_eval.astype('float32')"
   ]
  },
  {
   "cell_type": "code",
   "execution_count": null,
   "metadata": {},
   "outputs": [],
   "source": [
    "model, cp_callback = get_model(data_train, 200)\n",
    "\n",
    "hist = model.fit(\n",
    "    x= data_train, \n",
    "    y= label_train, \n",
    "    epochs= 10, \n",
    "    batch_size = 2**9, \n",
    "    validation_data = (data_eval,label_eval),\n",
    "    callbacks= [cp_callback]\n",
    "    )"
   ]
  },
  {
   "cell_type": "code",
   "execution_count": null,
   "metadata": {},
   "outputs": [],
   "source": [
    "labeling_evaluating(\n",
    "    label_eval, \n",
    "    model.predict(data_eval), \n",
    "    threshold = 0.5\n",
    ")"
   ]
  },
  {
   "cell_type": "markdown",
   "metadata": {},
   "source": [
    "# Final Conclusion"
   ]
  },
  {
   "cell_type": "markdown",
   "metadata": {},
   "source": [
    "### **Result Summary:**\n",
    "\n",
    "- Neural Network on Non-Text Data: Achieved an accuracy of approximately 0.5.\n",
    "- Neural Network Combined with RNN on Both Text and Non-Text Data: Attained an accuracy of around 0.3.\n",
    "- Reformatted Target, Neural Network on Non-Text Data: Demonstrated an accuracy of roughly 0.65.\n",
    "- Reformatted Target, Neural Network Combined with RNN on Both Text and Non-Text Data: Showed an accuracy of about 0.6.\n",
    "\n",
    "### **Conclusion:**\n",
    "\n",
    "It appears that, with the current approach, predicting the adoption speed for pets is a challenging task.\n",
    "\n",
    "The textual descriptions of the pets do not appear to contribute positively to the model's performance; in fact, they seem to have a detrimental effect.\n",
    "\n",
    "Reformatting the target variable to transform this into a two-label classification problem has led to a slight improvement in the model's performance.\n",
    "\n",
    "However, given the current accuracy and other metrics, it is evident that the model requires substantial improvements and changes to be effective."
   ]
  }
 ],
 "metadata": {
  "kernelspec": {
   "display_name": "Python 3",
   "language": "python",
   "name": "python3"
  },
  "language_info": {
   "codemirror_mode": {
    "name": "ipython",
    "version": 3
   },
   "file_extension": ".py",
   "mimetype": "text/x-python",
   "name": "python",
   "nbconvert_exporter": "python",
   "pygments_lexer": "ipython3",
   "version": "3.11.4"
  },
  "orig_nbformat": 4
 },
 "nbformat": 4,
 "nbformat_minor": 2
}
